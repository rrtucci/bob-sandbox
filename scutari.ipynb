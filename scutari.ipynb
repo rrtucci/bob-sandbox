{
 "cells": [
  {
   "cell_type": "code",
   "execution_count": 1,
   "metadata": {
    "collapsed": true
   },
   "outputs": [],
   "source": [
    "import warnings\n",
    "warnings.filterwarnings(\"ignore\", module=\"rpy2\")\n",
    "\n",
    "import rpy2\n",
    "%load_ext rpy2.ipython\n",
    "%R library(\"bnlearn\");\n",
    "%R library(\"Rgraphviz\");"
   ]
  },
  {
   "cell_type": "code",
   "execution_count": 2,
   "metadata": {
    "collapsed": false
   },
   "outputs": [
    {
     "name": "stdout",
     "output_type": "stream",
     "text": [
      "network unknown {\n",
      "}\n",
      "variable Burglary {\n",
      "  type discrete [ 2 ] { True, False };\n",
      "}\n",
      "variable Earthquake {\n",
      "  type discrete [ 2 ] { True, False };\n",
      "}\n",
      "variable Alarm {\n",
      "  type discrete [ 2 ] { True, False };\n",
      "}\n",
      "variable JohnCalls {\n",
      "  type discrete [ 2 ] { True, False };\n",
      "}\n",
      "variable MaryCalls {\n",
      "  type discrete [ 2 ] { True, False };\n",
      "}\n",
      "probability ( Burglary ) {\n",
      "  table 0.01, 0.99;\n",
      "}\n",
      "probability ( Earthquake ) {\n",
      "  table 0.02, 0.98;\n",
      "}\n",
      "probability ( Alarm | Burglary, Earthquake ) {\n",
      "  (True, True) 0.95, 0.05;\n",
      "  (False, True) 0.29, 0.71;\n",
      "  (True, False) 0.94, 0.06;\n",
      "  (False, False) 0.001, 0.999;\n",
      "}\n",
      "probability ( JohnCalls | Alarm ) {\n",
      "  (True) 0.9, 0.1;\n",
      "  (False) 0.05, 0.95;\n",
      "}\n",
      "probability ( MaryCalls | Alarm ) {\n",
      "  (True) 0.7, 0.3;\n",
      "  (False) 0.01, 0.99;\n",
      "}\n",
      "\n"
     ]
    }
   ],
   "source": [
    "in_bif = 'examples_cbnets/earthquake.bif'\n",
    "print(open(in_bif).read())"
   ]
  },
  {
   "cell_type": "code",
   "execution_count": 3,
   "metadata": {
    "collapsed": false
   },
   "outputs": [
    {
     "data": {
      "text/plain": [
       "List of 5\n",
       " $ Burglary  :List of 4\n",
       "  ..$ node    : chr \"Burglary\"\n",
       "  ..$ parents : chr(0) \n",
       "  ..$ children: chr \"Alarm\"\n",
       "  ..$ prob    : table [1:2(1d)] 0.01 0.99\n",
       "  .. ..- attr(*, \"dimnames\")=List of 1\n",
       "  .. .. ..$ : chr [1:2] \"True\" \"False\"\n",
       "  ..- attr(*, \"class\")= chr \"bn.fit.dnode\"\n",
       " $ Earthquake:List of 4\n",
       "  ..$ node    : chr \"Earthquake\"\n",
       "  ..$ parents : chr(0) \n",
       "  ..$ children: chr \"Alarm\"\n",
       "  ..$ prob    : table [1:2(1d)] 0.02 0.98\n",
       "  .. ..- attr(*, \"dimnames\")=List of 1\n",
       "  .. .. ..$ : chr [1:2] \"True\" \"False\"\n",
       "  ..- attr(*, \"class\")= chr \"bn.fit.dnode\"\n",
       " $ Alarm     :List of 4\n",
       "  ..$ node    : chr \"Alarm\"\n",
       "  ..$ parents : chr [1:2] \"Burglary\" \"Earthquake\"\n",
       "  ..$ children: chr [1:2] \"JohnCalls\" \"MaryCalls\"\n",
       "  ..$ prob    : table [1:2, 1:2, 1:2] 0.95 0.05 0.29 0.71 0.94 0.06 0.001 0.999\n",
       "  .. ..- attr(*, \"dimnames\")=List of 3\n",
       "  .. .. ..$ Alarm     : chr [1:2] \"True\" \"False\"\n",
       "  .. .. ..$ Burglary  : chr [1:2] \"True\" \"False\"\n",
       "  .. .. ..$ Earthquake: chr [1:2] \"True\" \"False\"\n",
       "  ..- attr(*, \"class\")= chr \"bn.fit.dnode\"\n",
       " $ JohnCalls :List of 4\n",
       "  ..$ node    : chr \"JohnCalls\"\n",
       "  ..$ parents : chr \"Alarm\"\n",
       "  ..$ children: chr(0) \n",
       "  ..$ prob    : table [1:2, 1:2] 0.9 0.1 0.05 0.95\n",
       "  .. ..- attr(*, \"dimnames\")=List of 2\n",
       "  .. .. ..$ JohnCalls: chr [1:2] \"True\" \"False\"\n",
       "  .. .. ..$ Alarm    : chr [1:2] \"True\" \"False\"\n",
       "  ..- attr(*, \"class\")= chr \"bn.fit.dnode\"\n",
       " $ MaryCalls :List of 4\n",
       "  ..$ node    : chr \"MaryCalls\"\n",
       "  ..$ parents : chr \"Alarm\"\n",
       "  ..$ children: chr(0) \n",
       "  ..$ prob    : table [1:2, 1:2] 0.7 0.3 0.01 0.99\n",
       "  .. ..- attr(*, \"dimnames\")=List of 2\n",
       "  .. .. ..$ MaryCalls: chr [1:2] \"True\" \"False\"\n",
       "  .. .. ..$ Alarm    : chr [1:2] \"True\" \"False\"\n",
       "  ..- attr(*, \"class\")= chr \"bn.fit.dnode\"\n",
       " - attr(*, \"class\")= chr [1:2] \"bn.fit\" \"bn.fit.dnet\"\n"
      ]
     },
     "metadata": {},
     "output_type": "display_data"
    }
   ],
   "source": [
    "%Rpush in_bif\n",
    "%R bn.fit = read.bif(in_bif)\n",
    "%R str(bn.fit)"
   ]
  },
  {
   "cell_type": "code",
   "execution_count": 4,
   "metadata": {
    "collapsed": false
   },
   "outputs": [
    {
     "name": "stdout",
     "output_type": "stream",
     "text": [
      "network unknown {\n",
      "\n",
      "variable Sprinkler {\n",
      "type discrete [ 2 ] {no, yes};\n",
      "}\n",
      "variable Rain {\n",
      "type discrete [ 2 ] {no, yes};\n",
      "}\n",
      "variable Cloudy {\n",
      "type discrete [ 2 ] {no, yes};\n",
      "}\n",
      "variable WetGrass {\n",
      "type discrete [ 2 ] {no, yes};\n",
      "}\n",
      "probability ( Sprinkler | Cloudy ) {\n",
      "\t(no)  0.2, 0.8;\n",
      "\t(yes)  0.7, 0.3;\n",
      "}\n",
      "probability ( Rain | Cloudy ) {\n",
      "\t(no)  0.4, 0.6;\n",
      "\t(yes)  0.5, 0.5;\n",
      "}\n",
      "probability ( Cloudy  ) {\n",
      "\ttable  0.5, 0.5;\n",
      "}\n",
      "probability ( WetGrass | Sprinkler, Rain ) {\n",
      "\t(no, no)  0.99, 0.01;\n",
      "\t(no, yes)  0.01, 0.99;\n",
      "\t(yes, no)  0.01, 0.99;\n",
      "\t(yes, yes)  0.01, 0.99;\n",
      "}\n",
      "}\n",
      "\n"
     ]
    }
   ],
   "source": [
    "in_bif = 'examples_cbnets/WetGrass.bif'\n",
    "print(open(in_bif).read())"
   ]
  },
  {
   "cell_type": "code",
   "execution_count": 5,
   "metadata": {
    "collapsed": false
   },
   "outputs": [
    {
     "name": "stdout",
     "output_type": "stream",
     "text": [
      "\n",
      "Error in `[<-`(c(1L, 1L, 1L, 1L), 1:2, \"no\", c(0.2, 0.8)) : \n",
      "  subscript out of bounds\n"
     ]
    },
    {
     "data": {
      "text/plain": [
       "List of 5\n",
       " $ Burglary  :List of 4\n",
       "  ..$ node    : chr \"Burglary\"\n",
       "  ..$ parents : chr(0) \n",
       "  ..$ children: chr \"Alarm\"\n",
       "  ..$ prob    : table [1:2(1d)] 0.01 0.99\n",
       "  .. ..- attr(*, \"dimnames\")=List of 1\n",
       "  .. .. ..$ : chr [1:2] \"True\" \"False\"\n",
       "  ..- attr(*, \"class\")= chr \"bn.fit.dnode\"\n",
       " $ Earthquake:List of 4\n",
       "  ..$ node    : chr \"Earthquake\"\n",
       "  ..$ parents : chr(0) \n",
       "  ..$ children: chr \"Alarm\"\n",
       "  ..$ prob    : table [1:2(1d)] 0.02 0.98\n",
       "  .. ..- attr(*, \"dimnames\")=List of 1\n",
       "  .. .. ..$ : chr [1:2] \"True\" \"False\"\n",
       "  ..- attr(*, \"class\")= chr \"bn.fit.dnode\"\n",
       " $ Alarm     :List of 4\n",
       "  ..$ node    : chr \"Alarm\"\n",
       "  ..$ parents : chr [1:2] \"Burglary\" \"Earthquake\"\n",
       "  ..$ children: chr [1:2] \"JohnCalls\" \"MaryCalls\"\n",
       "  ..$ prob    : table [1:2, 1:2, 1:2] 0.95 0.05 0.29 0.71 0.94 0.06 0.001 0.999\n",
       "  .. ..- attr(*, \"dimnames\")=List of 3\n",
       "  .. .. ..$ Alarm     : chr [1:2] \"True\" \"False\"\n",
       "  .. .. ..$ Burglary  : chr [1:2] \"True\" \"False\"\n",
       "  .. .. ..$ Earthquake: chr [1:2] \"True\" \"False\"\n",
       "  ..- attr(*, \"class\")= chr \"bn.fit.dnode\"\n",
       " $ JohnCalls :List of 4\n",
       "  ..$ node    : chr \"JohnCalls\"\n",
       "  ..$ parents : chr \"Alarm\"\n",
       "  ..$ children: chr(0) \n",
       "  ..$ prob    : table [1:2, 1:2] 0.9 0.1 0.05 0.95\n",
       "  .. ..- attr(*, \"dimnames\")=List of 2\n",
       "  .. .. ..$ JohnCalls: chr [1:2] \"True\" \"False\"\n",
       "  .. .. ..$ Alarm    : chr [1:2] \"True\" \"False\"\n",
       "  ..- attr(*, \"class\")= chr \"bn.fit.dnode\"\n",
       " $ MaryCalls :List of 4\n",
       "  ..$ node    : chr \"MaryCalls\"\n",
       "  ..$ parents : chr \"Alarm\"\n",
       "  ..$ children: chr(0) \n",
       "  ..$ prob    : table [1:2, 1:2] 0.7 0.3 0.01 0.99\n",
       "  .. ..- attr(*, \"dimnames\")=List of 2\n",
       "  .. .. ..$ MaryCalls: chr [1:2] \"True\" \"False\"\n",
       "  .. .. ..$ Alarm    : chr [1:2] \"True\" \"False\"\n",
       "  ..- attr(*, \"class\")= chr \"bn.fit.dnode\"\n",
       " - attr(*, \"class\")= chr [1:2] \"bn.fit\" \"bn.fit.dnet\"\n"
      ]
     },
     "metadata": {},
     "output_type": "display_data"
    }
   ],
   "source": [
    "%Rpush in_bif\n",
    "%R bn.fit = read.bif(in_bif)\n",
    "%R str(bn.fit)"
   ]
  },
  {
   "cell_type": "code",
   "execution_count": 6,
   "metadata": {
    "collapsed": false
   },
   "outputs": [
    {
     "name": "stdout",
     "output_type": "stream",
     "text": [
      "network unknown {\n",
      "\n",
      "variable Visited-Asian-TB-HRA {\n",
      "  type discrete [ 2 ] { yes, no };\n",
      "}\n",
      "variable Tuberculosis {\n",
      "  type discrete [ 2 ] { yes, no };\n",
      "}\n",
      "variable Smoke {\n",
      "  type discrete [ 2 ] { yes, no };\n",
      "}\n",
      "variable Lung-Cancer {\n",
      "  type discrete [ 2 ] { yes, no };\n",
      "}\n",
      "variable Bronchitis {\n",
      "  type discrete [ 2 ] { yes, no };\n",
      "}\n",
      "variable Either {\n",
      "  type discrete [ 2 ] { yes, no };\n",
      "}\n",
      "variable X-Ray {\n",
      "  type discrete [ 2 ] { yes, no };\n",
      "}\n",
      "variable Dyspnea {\n",
      "  type discrete [ 2 ] { yes, no };\n",
      "}\n",
      "probability ( Visited-Asian-TB-HRA ) {\n",
      "  table 0.01, 0.99;\n",
      "}\n",
      "probability ( Tuberculosis | Visited-Asian-TB-HRA ) {\n",
      "  (yes) 0.05, 0.95;\n",
      "  (no) 0.01, 0.99;\n",
      "}\n",
      "probability ( Smoke ) {\n",
      "  table 0.5, 0.5;\n",
      "}\n",
      "probability ( Lung-Cancer | Smoke ) {\n",
      "  (yes) 0.1, 0.9;\n",
      "  (no) 0.01, 0.99;\n",
      "}\n",
      "probability ( Bronchitis | Smoke ) {\n",
      "  (yes) 0.6, 0.4;\n",
      "  (no) 0.3, 0.7;\n",
      "}\n",
      "probability ( Either | Lung-Cancer, Tuberculosis ) {\n",
      "  (yes, yes) 1.0, 0.0;\n",
      "  (no, yes) 1.0, 0.0;\n",
      "  (yes, no) 1.0, 0.0;\n",
      "  (no, no) 0.0, 1.0;\n",
      "}\n",
      "probability ( X-Ray | Either ) {\n",
      "  (yes) 0.98, 0.02;\n",
      "  (no) 0.05, 0.95;\n",
      "}\n",
      "probability ( Dyspnea | Bronchitis, Either ) {\n",
      "  (yes, yes) 0.9, 0.1;\n",
      "  (no, yes) 0.7, 0.3;\n",
      "  (yes, no) 0.8, 0.2;\n",
      "  (no, no) 0.1, 0.9;\n",
      "}\n",
      "}\n",
      "\n"
     ]
    }
   ],
   "source": [
    "in_bif = 'examples_cbnets/asia.bif'\n",
    "print(open(in_bif).read())"
   ]
  },
  {
   "cell_type": "code",
   "execution_count": 7,
   "metadata": {
    "collapsed": false
   },
   "outputs": [
    {
     "name": "stdout",
     "output_type": "stream",
     "text": [
      "\n",
      "Error in FUN(X[[i]], ...) : \n",
      "  dropped mismatched node is the parent of another node.\n"
     ]
    },
    {
     "data": {
      "text/plain": [
       "List of 5\n",
       " $ Burglary  :List of 4\n",
       "  ..$ node    : chr \"Burglary\"\n",
       "  ..$ parents : chr(0) \n",
       "  ..$ children: chr \"Alarm\"\n",
       "  ..$ prob    : table [1:2(1d)] 0.01 0.99\n",
       "  .. ..- attr(*, \"dimnames\")=List of 1\n",
       "  .. .. ..$ : chr [1:2] \"True\" \"False\"\n",
       "  ..- attr(*, \"class\")= chr \"bn.fit.dnode\"\n",
       " $ Earthquake:List of 4\n",
       "  ..$ node    : chr \"Earthquake\"\n",
       "  ..$ parents : chr(0) \n",
       "  ..$ children: chr \"Alarm\"\n",
       "  ..$ prob    : table [1:2(1d)] 0.02 0.98\n",
       "  .. ..- attr(*, \"dimnames\")=List of 1\n",
       "  .. .. ..$ : chr [1:2] \"True\" \"False\"\n",
       "  ..- attr(*, \"class\")= chr \"bn.fit.dnode\"\n",
       " $ Alarm     :List of 4\n",
       "  ..$ node    : chr \"Alarm\"\n",
       "  ..$ parents : chr [1:2] \"Burglary\" \"Earthquake\"\n",
       "  ..$ children: chr [1:2] \"JohnCalls\" \"MaryCalls\"\n",
       "  ..$ prob    : table [1:2, 1:2, 1:2] 0.95 0.05 0.29 0.71 0.94 0.06 0.001 0.999\n",
       "  .. ..- attr(*, \"dimnames\")=List of 3\n",
       "  .. .. ..$ Alarm     : chr [1:2] \"True\" \"False\"\n",
       "  .. .. ..$ Burglary  : chr [1:2] \"True\" \"False\"\n",
       "  .. .. ..$ Earthquake: chr [1:2] \"True\" \"False\"\n",
       "  ..- attr(*, \"class\")= chr \"bn.fit.dnode\"\n",
       " $ JohnCalls :List of 4\n",
       "  ..$ node    : chr \"JohnCalls\"\n",
       "  ..$ parents : chr \"Alarm\"\n",
       "  ..$ children: chr(0) \n",
       "  ..$ prob    : table [1:2, 1:2] 0.9 0.1 0.05 0.95\n",
       "  .. ..- attr(*, \"dimnames\")=List of 2\n",
       "  .. .. ..$ JohnCalls: chr [1:2] \"True\" \"False\"\n",
       "  .. .. ..$ Alarm    : chr [1:2] \"True\" \"False\"\n",
       "  ..- attr(*, \"class\")= chr \"bn.fit.dnode\"\n",
       " $ MaryCalls :List of 4\n",
       "  ..$ node    : chr \"MaryCalls\"\n",
       "  ..$ parents : chr \"Alarm\"\n",
       "  ..$ children: chr(0) \n",
       "  ..$ prob    : table [1:2, 1:2] 0.7 0.3 0.01 0.99\n",
       "  .. ..- attr(*, \"dimnames\")=List of 2\n",
       "  .. .. ..$ MaryCalls: chr [1:2] \"True\" \"False\"\n",
       "  .. .. ..$ Alarm    : chr [1:2] \"True\" \"False\"\n",
       "  ..- attr(*, \"class\")= chr \"bn.fit.dnode\"\n",
       " - attr(*, \"class\")= chr [1:2] \"bn.fit\" \"bn.fit.dnet\"\n"
      ]
     },
     "metadata": {},
     "output_type": "display_data"
    }
   ],
   "source": [
    "%Rpush in_bif\n",
    "%R bn.fit = read.bif(in_bif)\n",
    "%R str(bn.fit)"
   ]
  },
  {
   "cell_type": "code",
   "execution_count": null,
   "metadata": {
    "collapsed": true
   },
   "outputs": [],
   "source": []
  }
 ],
 "metadata": {
  "kernelspec": {
   "display_name": "Python 3",
   "language": "python",
   "name": "python3"
  },
  "language_info": {
   "codemirror_mode": {
    "name": "ipython",
    "version": 3
   },
   "file_extension": ".py",
   "mimetype": "text/x-python",
   "name": "python",
   "nbconvert_exporter": "python",
   "pygments_lexer": "ipython3",
   "version": "3.6.0"
  },
  "toc": {
   "colors": {
    "hover_highlight": "#DAA520",
    "running_highlight": "#FF0000",
    "selected_highlight": "#FFD700"
   },
   "moveMenuLeft": true,
   "nav_menu": {
    "height": "12px",
    "width": "252px"
   },
   "navigate_menu": true,
   "number_sections": true,
   "sideBar": true,
   "threshold": 4,
   "toc_cell": false,
   "toc_section_display": "block",
   "toc_window_display": false
  }
 },
 "nbformat": 4,
 "nbformat_minor": 2
}
