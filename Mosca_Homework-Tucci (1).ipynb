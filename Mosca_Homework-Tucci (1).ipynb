{
 "cells": [
  {
   "cell_type": "markdown",
   "metadata": {},
   "source": [
    "\n",
    "# Introduction to QIP Exercises"
   ]
  },
  {
   "cell_type": "markdown",
   "metadata": {},
   "source": [
    "Home work on 20170906\n",
    "\n",
    "[CDL lectures and homeworks](https://drive.google.com/drive/folders/0B-Z5FSX0pXY0dm1UTUJnczZwUTg?usp=sharing)"
   ]
  },
  {
   "cell_type": "markdown",
   "metadata": {},
   "source": [
    "## question 1\n",
    "\n",
    "$$ H = \\frac{1}{\\sqrt{2}}\\left[ \\begin{array}{cc}1& 1\\\\ 1& -1\\end{array}\\right] $$\n",
    "\n",
    "$$ H = \\frac{1}{\\sqrt{2}}\\left(|0><0| + |0><1| + |1><0| - |1><1| \\right) $$"
   ]
  },
  {
   "cell_type": "markdown",
   "metadata": {},
   "source": [
    "## question 2, part a\n",
    "$$ |f> = H(\\frac{1}{\\sqrt{2}}|0> + \\frac{e^{i\\phi}}{\\sqrt{2}}|1>) =  \\frac{1+e^{i\\phi}}{2}|0> + \\frac{1-e^{i\\phi}}{2}|1> $$\n",
    "\n",
    "$$|f> = e^{i\\phi/2}[cos(\\phi/2)|0> + e^{-i\\pi/2}sin(\\phi/2)|1>]$$\n",
    "\n",
    "$$|f> = e^{i\\alpha}[cos(\\theta)|0> + e^{i\\beta}sin(\\theta)|1>]$$\n",
    "\n",
    "so $\\theta = \\phi/2$, $\\alpha =\\phi/2$ and $\\beta = -i\\pi/2$\n",
    "\n",
    "Prob  of 0 = $\\cos^2(\\theta) = \\cos^2(\\phi/2)$"
   ]
  },
  {
   "cell_type": "code",
   "execution_count": 17,
   "metadata": {},
   "outputs": [
    {
     "data": {
      "text/plain": [
       "array([ 0.85355339,  0.14644661,  0.14644661,  0.85355339])"
      ]
     },
     "execution_count": 17,
     "metadata": {},
     "output_type": "execute_result"
    }
   ],
   "source": [
    "import numpy as np\n",
    "theta = np.array([np.pi/8, 3*np.pi/8, 5*np.pi/8, 7*np.pi/8])\n",
    "np.cos(theta)**2"
   ]
  },
  {
   "cell_type": "markdown",
   "metadata": {},
   "source": [
    "### question 2(b)\n",
    "To distinguish $s_1 = (\\frac{1}{\\sqrt{2}}|0> + \\frac{e^{i\\cdot3\\pi/4}}{\\sqrt{2}}|1>)$ and $s_2 = (\\frac{1}{\\sqrt{2}}|0> + \\frac{e^{i\\cdot7\\pi/4}}{\\sqrt{2}}|1>)$, we can apply firstly a $\\pi/4$ phase shifter and then a Hadamard gate, then we get:\n",
    " $$H\\cdot P_{\\pi/4} = \\frac{1}{sqrt{2}}(1, e^{i\\pi/4}; 1,-e^{i\\pi/4})$$, and \n",
    " * $$ H\\cdot P_{\\pi/4}\\cdot s_1 = \\frac{1+e^{i\\pi}}{2}|0> + \\frac{1-e^{i\\pi}}{2}|1> = |1> $$\n",
    " * $$ H\\cdot P_{\\pi/4}\\cdot s_1 = \\frac{1+e^{2i\\pi}}{2}|0> + \\frac{1-e^{2i\\pi}}{2}|1> = |0> $$\n",
    "These two states are easily distinguished by measurement in the standard basis. "
   ]
  },
  {
   "cell_type": "markdown",
   "metadata": {},
   "source": [
    "## question 3\n",
    "Only one qubit is used.\n",
    "The qubit starts at |0> \n",
    "\n",
    "The adversary does the following:\n",
    "* quarter of time applies sigma_x,\n",
    "* quarter of time applies nothing,\n",
    "* Half of time applies Hadamard. \n",
    "\n",
    "Now you have to decide what adversary did.\n",
    "Apply a Hadamard and then measure state in standard basis. \n",
    "If you get 0, guess (2). Otherwise, guess (1)"
   ]
  },
  {
   "cell_type": "markdown",
   "metadata": {
    "collapsed": true
   },
   "source": [
    "## question 4\n",
    "(a)Prob first qubit is 0:\n",
    "\n",
    "$2[\\frac{3}{5\\sqrt{2}}]^2 = \\frac{18}{50}=\\frac{9}{25}$\n",
    "\n",
    "state of second qubit if first qubit is 0:\n",
    "\n",
    "$\\rho = \\frac{1}{2}\\left[ \\begin{array}{cc} 1 & 1\\\\ 1& 1 \\end{array}\\right]$\n",
    "\n",
    "(b) Prob  first qubit is 1:\n",
    "\n",
    "$[\\frac{12}{25}]^2 + [\\frac{16}{25}]^2 = \\frac{3^2 4^2 + 4^4}{5^4} = \\frac{25 (16)}{(25)^2}=\\frac{16}{25}$\n",
    "\n",
    "state of second qubit if first qubit is 1:\n",
    "\n",
    "$\\rho = \\frac{1}{25}\\left[ \\begin{array}{cc} 3^2 & 3*4\\\\ 3*4& 4^2\\end{array}\\right]$"
   ]
  },
  {
   "cell_type": "markdown",
   "metadata": {},
   "source": [
    "## question 5\n",
    "\n",
    "a) let $E = exp(i 2\\pi/3)$\n",
    "\n",
    "$$\\rho = \\frac{1}{3}\n",
    "\\left[\\begin{array}{ccc} \n",
    "1 & E^* & E^{-2}\\\\\n",
    "E&1 &E^*\\\\\n",
    "E^{2}& E& 1\n",
    "\\end{array}\\right]$$\n",
    "\n",
    "b)\n",
    "\n",
    "$$\n",
    "\\rho= \\frac{1}{8}\n",
    "\\left[\\begin{array}{cc}\n",
    "1&-i\\\\\n",
    "i&1\n",
    "\\end{array}\\right]\n",
    "+\n",
    "\\frac{3}{8}\n",
    "\\left[\\begin{array}{cc}\n",
    "1&i\\\\\n",
    "-i&1\n",
    "\\end{array}\\right]\n",
    "$$\n",
    "\n",
    "\n"
   ]
  },
  {
   "cell_type": "markdown",
   "metadata": {},
   "source": [
    "## question 6\n",
    "n=number of qubits  \n",
    "N= 2^n  \n",
    "Prob of error=p~ 1/N  \n",
    "Number of iterations=k~sqrt(N)  \n",
    "So  \n",
    "(a) p~1/4 (assuming N>>1, see more precise answer below) \n",
    "(b)k~100  \n",
    "But I have used approximations \n",
    "More precisely, (from circa page150 of Mosca notes)  \n",
    "p= sin^2(theta) where  \n",
    "theta ~1/sqrt(N)  \n",
    "(a) p = sin^2(1/2)=0.230"
   ]
  },
  {
   "cell_type": "code",
   "execution_count": null,
   "metadata": {
    "collapsed": true
   },
   "outputs": [],
   "source": []
  }
 ],
 "metadata": {
  "kernelspec": {
   "display_name": "Python 3",
   "language": "python",
   "name": "python3"
  },
  "language_info": {
   "codemirror_mode": {
    "name": "ipython",
    "version": 3
   },
   "file_extension": ".py",
   "mimetype": "text/x-python",
   "name": "python",
   "nbconvert_exporter": "python",
   "pygments_lexer": "ipython3",
   "version": "3.6.2"
  },
  "toc": {
   "colors": {
    "hover_highlight": "#DAA520",
    "running_highlight": "#FF0000",
    "selected_highlight": "#FFD700"
   },
   "moveMenuLeft": true,
   "nav_menu": {
    "height": "30px",
    "width": "252px"
   },
   "navigate_menu": true,
   "number_sections": true,
   "sideBar": true,
   "threshold": 4,
   "toc_cell": false,
   "toc_section_display": "block",
   "toc_window_display": false,
   "widenNotebook": false
  }
 },
 "nbformat": 4,
 "nbformat_minor": 2
}
