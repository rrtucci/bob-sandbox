{
 "cells": [
  {
   "cell_type": "code",
   "execution_count": 2,
   "metadata": {
    "collapsed": false
   },
   "outputs": [
    {
     "name": "stdout",
     "output_type": "stream",
     "text": [
      "pnl_path = /home/jupyter/Notebooks/Classical/OpenPNL/PNLM/m_root\n"
     ]
    }
   ],
   "source": [
    "pnl_path = '/home/jupyter/Notebooks/Classical/OpenPNL/PNLM/m_root'"
   ]
  },
  {
   "cell_type": "code",
   "execution_count": 3,
   "metadata": {
    "collapsed": false
   },
   "outputs": [
    {
     "name": "stdout",
     "output_type": "stream",
     "text": [
      "warning: do_braindead_shortcircuit_evaluation is obsolete and will be removed from a future version of Octave\n"
     ]
    }
   ],
   "source": [
    "do_braindead_shortcircuit_evaluation (1)\n",
    "warning('off', 'Octave:possible-matlab-short-circuit-operator')  % very numerous warnings"
   ]
  },
  {
   "cell_type": "code",
   "execution_count": 12,
   "metadata": {
    "collapsed": true
   },
   "outputs": [],
   "source": [
    "% genpath(dir) grows dir to list of all files inside it (recursive)\n",
    "addpath(genpath(pnl_path))  "
   ]
  },
  {
   "cell_type": "code",
   "execution_count": 13,
   "metadata": {
    "collapsed": false
   },
   "outputs": [
    {
     "name": "stdout",
     "output_type": "stream",
     "text": [
      "\n",
      "Octave's search path contains the following directories:\n",
      "\n",
      ".\n",
      "/home/jupyter/Notebooks/Classical/OpenPNL/PNLM/m_root\n",
      "/home/jupyter/Notebooks/Classical/OpenPNL/PNLM/m_root/Examples\n",
      "/home/jupyter/Notebooks/Classical/OpenPNL/PNLM/m_root/Test\n",
      "/opt/anaconda3/lib/python3.6/site-packages/octave_kernel\n",
      "/usr/lib/x86_64-linux-gnu/octave/4.0.2/site/oct/x86_64-pc-linux-gnu\n",
      "/usr/lib/x86_64-linux-gnu/octave/site/oct/api-v50+/x86_64-pc-linux-gnu\n",
      "/usr/lib/x86_64-linux-gnu/octave/site/oct/x86_64-pc-linux-gnu\n",
      "/usr/share/octave/4.0.2/site/m\n",
      "/usr/share/octave/site/api-v50+/m\n",
      "/usr/share/octave/site/m\n",
      "/usr/share/octave/site/m/startup\n",
      "/usr/lib/x86_64-linux-gnu/octave/4.0.2/oct/x86_64-pc-linux-gnu\n",
      "/usr/share/octave/4.0.2/m\n",
      "/usr/share/octave/4.0.2/m/audio\n",
      "/usr/share/octave/4.0.2/m/debian\n",
      "/usr/share/octave/4.0.2/m/deprecated\n",
      "/usr/share/octave/4.0.2/m/elfun\n",
      "/usr/share/octave/4.0.2/m/general\n",
      "/usr/share/octave/4.0.2/m/geometry\n",
      "/usr/share/octave/4.0.2/m/gui\n",
      "/usr/share/octave/4.0.2/m/help\n",
      "/usr/share/octave/4.0.2/m/image\n",
      "/usr/share/octave/4.0.2/m/io\n",
      "/usr/share/octave/4.0.2/m/java\n",
      "/usr/share/octave/4.0.2/m/linear-algebra\n",
      "/usr/share/octave/4.0.2/m/miscellaneous\n",
      "/usr/share/octave/4.0.2/m/optimization\n",
      "/usr/share/octave/4.0.2/m/path\n",
      "/usr/share/octave/4.0.2/m/pkg\n",
      "/usr/share/octave/4.0.2/m/plot\n",
      "/usr/share/octave/4.0.2/m/plot/appearance\n",
      "/usr/share/octave/4.0.2/m/plot/draw\n",
      "/usr/share/octave/4.0.2/m/plot/util\n",
      "/usr/share/octave/4.0.2/m/polynomial\n",
      "/usr/share/octave/4.0.2/m/prefs\n",
      "/usr/share/octave/4.0.2/m/set\n",
      "/usr/share/octave/4.0.2/m/signal\n",
      "/usr/share/octave/4.0.2/m/sparse\n",
      "/usr/share/octave/4.0.2/m/specfun\n",
      "/usr/share/octave/4.0.2/m/special-matrix\n",
      "/usr/share/octave/4.0.2/m/startup\n",
      "/usr/share/octave/4.0.2/m/statistics\n",
      "/usr/share/octave/4.0.2/m/statistics/base\n",
      "/usr/share/octave/4.0.2/m/statistics/distributions\n",
      "/usr/share/octave/4.0.2/m/statistics/models\n",
      "/usr/share/octave/4.0.2/m/statistics/tests\n",
      "/usr/share/octave/4.0.2/m/strings\n",
      "/usr/share/octave/4.0.2/m/testfun\n",
      "/usr/share/octave/4.0.2/m/time\n",
      "/usr/share/octave/4.0.2/data\n",
      "\n"
     ]
    }
   ],
   "source": [
    "path"
   ]
  },
  {
   "cell_type": "code",
   "execution_count": 10,
   "metadata": {
    "collapsed": false
   },
   "outputs": [
    {
     "name": "stdout",
     "output_type": "stream",
     "text": [
      "error: feval: function 'pnl_full' not found\n",
      "error: called from\n",
      "    CNodeType at line 29 column 22\n"
     ]
    }
   ],
   "source": [
    "nodeTypes{1} = CNodeType(1, 2)"
   ]
  },
  {
   "cell_type": "code",
   "execution_count": null,
   "metadata": {
    "collapsed": true
   },
   "outputs": [],
   "source": []
  }
 ],
 "metadata": {
  "kernelspec": {
   "display_name": "Octave",
   "language": "octave",
   "name": "octave"
  },
  "language_info": {
   "file_extension": ".m",
   "help_links": [
    {
     "text": "GNU Octave",
     "url": "https://www.gnu.org/software/octave/support.html"
    },
    {
     "text": "Octave Kernel",
     "url": "https://github.com/Calysto/octave_kernel"
    },
    {
     "text": "MetaKernel Magics",
     "url": "https://github.com/calysto/metakernel/blob/master/metakernel/magics/README.md"
    }
   ],
   "mimetype": "text/x-octave",
   "name": "octave",
   "version": "4.0.2"
  },
  "toc": {
   "colors": {
    "hover_highlight": "#DAA520",
    "running_highlight": "#FF0000",
    "selected_highlight": "#FFD700"
   },
   "moveMenuLeft": true,
   "nav_menu": {
    "height": "12px",
    "width": "252px"
   },
   "navigate_menu": true,
   "number_sections": true,
   "sideBar": true,
   "threshold": 4,
   "toc_cell": false,
   "toc_section_display": "block",
   "toc_window_display": false,
   "widenNotebook": false
  }
 },
 "nbformat": 4,
 "nbformat_minor": 2
}
